{
 "cells": [
  {
   "cell_type": "code",
   "execution_count": 1,
   "metadata": {},
   "outputs": [],
   "source": [
    "import pandas as pd\n",
    "from sklearn.model_selection import train_test_split\n",
    "from sklearn.ensemble import RandomForestClassifier\n",
    "from sklearn.metrics import classification_report, accuracy_score\n",
    "from sklearn.preprocessing import LabelEncoder\n",
    "from sklearn.model_selection import GridSearchCV"
   ]
  },
  {
   "cell_type": "code",
   "execution_count": 15,
   "metadata": {},
   "outputs": [],
   "source": [
    "\n",
    "# Identify common columns between the two dataframes\n",
    "common_columns = installer_df.columns.intersection(involver_df.columns).tolist()\n",
    "\n",
    "# Attempt to merge using a subset of key columns\n",
    "key_columns = ['Site', 'Vessel_Name', 'Wo_No']\n",
    "\n",
    "# Merge the dataframes using the selected key columns\n",
    "merged_df = pd.merge(installer_df, involver_df, on=key_columns, how='inner')\n",
    "\n",
    "# Select the columns for features and target\n",
    "feature_columns = ['Group', 'Symptom', 'Error_Cause', 'Cause_Details', 'Error_Class', 'Discovery', 'Completion_Note', 'Action_Taken', 'Work_Description', 'Directive']\n",
    "target_column = 'EBS1'\n"
   ]
  },
  {
   "cell_type": "code",
   "execution_count": 16,
   "metadata": {},
   "outputs": [],
   "source": [
    "\n",
    "# Filter the dataframe for the selected columns\n",
    "installer_df_filtered = installer_df[feature_columns + [target_column]].dropna()\n",
    "\n",
    "# Encode categorical variables\n",
    "label_encoders = {}\n",
    "for column in feature_columns:\n",
    "    le = LabelEncoder()\n",
    "    installer_df_filtered[column] = le.fit_transform(installer_df_filtered[column].astype(str))\n",
    "    label_encoders[column] = le\n",
    "\n",
    "    "
   ]
  },
  {
   "cell_type": "code",
   "execution_count": 17,
   "metadata": {},
   "outputs": [],
   "source": [
    "\n",
    "# Encode the target column\n",
    "target_le = LabelEncoder()\n",
    "installer_df_filtered[target_column] = target_le.fit_transform(installer_df_filtered[target_column].astype(str))\n",
    "\n",
    "# Split the data into training and testing sets\n",
    "X = installer_df_filtered[feature_columns]\n",
    "y = installer_df_filtered[target_column]\n",
    "\n",
    "X_train, X_test, y_train, y_test = train_test_split(X, y, test_size=0.2, random_state=42)\n",
    "\n",
    "# Initialize the RandomForestClassifier\n",
    "rf_model = RandomForestClassifier(random_state=42)\n",
    "\n",
    "# Define the parameter grid for GridSearchCV\n",
    "param_grid = {\n",
    "    'n_estimators': [100, 200, 300],\n",
    "    'max_depth': [None, 10, 20, 30],\n",
    "    'min_samples_split': [2, 5, 10],\n",
    "    'min_samples_leaf': [1, 2, 4],\n",
    "    'bootstrap': [True, False]\n",
    "}"
   ]
  },
  {
   "cell_type": "code",
   "execution_count": 18,
   "metadata": {},
   "outputs": [
    {
     "name": "stdout",
     "output_type": "stream",
     "text": [
      "Fitting 3 folds for each of 216 candidates, totalling 648 fits\n"
     ]
    },
    {
     "name": "stderr",
     "output_type": "stream",
     "text": [
      "c:\\Users\\ASMohan\\Documents\\Python\\.venv\\Lib\\site-packages\\sklearn\\model_selection\\_split.py:776: UserWarning: The least populated class in y has only 1 members, which is less than n_splits=3.\n",
      "  warnings.warn(\n"
     ]
    }
   ],
   "source": [
    "\n",
    "# Initialize the GridSearchCV object\n",
    "grid_search = GridSearchCV(estimator=rf_model, param_grid=param_grid, \n",
    "                           cv=3, n_jobs=-1, verbose=2, scoring='accuracy')\n",
    "\n",
    "# Fit the grid search to the data\n",
    "grid_search.fit(X_train, y_train)\n",
    "\n",
    "# Get the best parameters and the best model\n",
    "best_params = grid_search.best_params_\n",
    "best_rf_model = grid_search.best_estimator_\n",
    "\n",
    "# Make predictions with the best model\n",
    "best_y_pred = best_rf_model.predict(X_test)\n",
    "\n",
    "# Define common_classes based on unique classes in y_train and y_test\n",
    "common_classes = list(set(y_train.unique()).intersection(set(y_test.unique())))\n",
    "common_classes.sort()  # Ensure the classes are sorted for consistency\n"
   ]
  },
  {
   "cell_type": "code",
   "execution_count": 19,
   "metadata": {},
   "outputs": [
    {
     "name": "stdout",
     "output_type": "stream",
     "text": [
      "Best Parameters: {'bootstrap': False, 'max_depth': None, 'min_samples_leaf': 1, 'min_samples_split': 5, 'n_estimators': 100}\n",
      "Best Accuracy: 0.6617647058823529\n",
      "Classification Report:\n",
      "                                                      precision    recall  f1-score   support\n",
      "\n",
      "                                 Cargo Gear System        0.73      1.00      0.84         8\n",
      "                                    Cooling System        0.60      0.67      0.63         9\n",
      "                        Electric Propulsion System        1.00      0.91      0.95        11\n",
      "               Emergency Power Distribution System        1.00      0.67      0.80         3\n",
      "               Fire Detection and Fire Alarm System       0.00      0.00      0.00         1\n",
      "                                  Fire Main System        1.00      0.50      0.67         2\n",
      "                                 Fresh Water System       0.00      0.00      0.00         2\n",
      "                                Fresh Water System        0.73      1.00      0.85        11\n",
      "                      Lighting Distribution System        1.00      0.50      0.67         2\n",
      "                    Main Power Distribution System        0.29      1.00      0.44         2\n",
      "           Sea Water Circulation and Cooling System       0.33      1.00      0.50         1\n",
      "          Sea Water Circulation and Cooling System        0.43      0.38      0.40         8\n",
      "                               Starting Air System        0.00      0.00      0.00         3\n",
      "                             Tunnel Thruster System       0.00      0.00      0.00         3\n",
      "Water Mist Fire Extinguishing Systems - Mchy Space        0.00      0.00      0.00         1\n",
      "\n",
      "                                          micro avg       0.67      0.67      0.67        67\n",
      "                                          macro avg       0.47      0.51      0.45        67\n",
      "                                       weighted avg       0.62      0.67      0.62        67\n",
      "\n"
     ]
    },
    {
     "name": "stderr",
     "output_type": "stream",
     "text": [
      "c:\\Users\\ASMohan\\Documents\\Python\\.venv\\Lib\\site-packages\\sklearn\\metrics\\_classification.py:1517: UndefinedMetricWarning: Precision is ill-defined and being set to 0.0 in labels with no predicted samples. Use `zero_division` parameter to control this behavior.\n",
      "  _warn_prf(average, modifier, f\"{metric.capitalize()} is\", len(result))\n",
      "c:\\Users\\ASMohan\\Documents\\Python\\.venv\\Lib\\site-packages\\sklearn\\metrics\\_classification.py:1517: UndefinedMetricWarning: Precision is ill-defined and being set to 0.0 in labels with no predicted samples. Use `zero_division` parameter to control this behavior.\n",
      "  _warn_prf(average, modifier, f\"{metric.capitalize()} is\", len(result))\n",
      "c:\\Users\\ASMohan\\Documents\\Python\\.venv\\Lib\\site-packages\\sklearn\\metrics\\_classification.py:1517: UndefinedMetricWarning: Precision is ill-defined and being set to 0.0 in labels with no predicted samples. Use `zero_division` parameter to control this behavior.\n",
      "  _warn_prf(average, modifier, f\"{metric.capitalize()} is\", len(result))\n"
     ]
    }
   ],
   "source": [
    "\n",
    "# Evaluate the best model with the filtered common classes\n",
    "best_accuracy = accuracy_score(y_test, best_y_pred)\n",
    "best_report = classification_report(y_test, best_y_pred, labels=common_classes, target_names=target_le.inverse_transform(common_classes))\n",
    "\n",
    "print(\"Best Parameters:\", best_params)\n",
    "print(\"Best Accuracy:\", best_accuracy)\n",
    "print(\"Classification Report:\\n\", best_report)"
   ]
  }
 ],
 "metadata": {
  "kernelspec": {
   "display_name": ".venv",
   "language": "python",
   "name": "python3"
  },
  "language_info": {
   "codemirror_mode": {
    "name": "ipython",
    "version": 3
   },
   "file_extension": ".py",
   "mimetype": "text/x-python",
   "name": "python",
   "nbconvert_exporter": "python",
   "pygments_lexer": "ipython3",
   "version": "3.11.9"
  }
 },
 "nbformat": 4,
 "nbformat_minor": 2
}
